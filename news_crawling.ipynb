{
 "cells": [
  {
   "cell_type": "code",
   "execution_count": 1,
   "id": "5ca02e85",
   "metadata": {},
   "outputs": [
    {
     "name": "stderr",
     "output_type": "stream",
     "text": [
      "[NbConvertApp] Converting notebook news_crawling.ipynb to script\n",
      "[NbConvertApp] Writing 6292 bytes to news_crawling.py\n"
     ]
    }
   ],
   "source": [
    "# ! jupyter nbconvert --to script news_crawling.ipynb"
   ]
  },
  {
   "cell_type": "code",
   "execution_count": 2,
   "id": "80351a7b",
   "metadata": {},
   "outputs": [],
   "source": [
    "# 설치해야 할 라이브러리\n",
    "# !pip install google.generativeai\n",
    "# !pip install selenium\n",
    "# !pip install webdriver_manager"
   ]
  },
  {
   "cell_type": "code",
   "execution_count": 1,
   "id": "e5056707",
   "metadata": {},
   "outputs": [],
   "source": [
    "from bs4 import BeautifulSoup\n",
    "import time\n",
    " \n",
    "from selenium import webdriver\n",
    "from selenium.webdriver.common.by import By\n",
    "from google.generativeai.types import HarmCategory, HarmBlockThreshold"
   ]
  },
  {
   "cell_type": "code",
   "execution_count": 2,
   "id": "c8a1e23d",
   "metadata": {},
   "outputs": [],
   "source": [
    "options = webdriver.ChromeOptions() # 크롬 옵션 객체 생성\n",
    "# options.add_argument('headless') # headless 모드 설정 -> 해당 옵션 적용 시 PDF 다운 불가\n",
    "options.add_argument(\"window-size=1920x1080\") # 화면크기(전체화면)\n",
    "options.add_argument(\"disable-gpu\")\n",
    "options.add_argument(\"disable-infobars\")\n",
    "options.add_argument(\"--disable-extensions\")\n",
    "options.add_argument('--no-sandbox') "
   ]
  },
  {
   "cell_type": "code",
   "execution_count": 3,
   "id": "793d7f7f",
   "metadata": {},
   "outputs": [],
   "source": [
    "driver = webdriver.Chrome()\n",
    "# wait seconds...\n",
    "driver.implicitly_wait(3)"
   ]
  },
  {
   "cell_type": "code",
   "execution_count": 4,
   "id": "f76f5ee1",
   "metadata": {},
   "outputs": [],
   "source": [
    "def main_news(n=3):\n",
    "    news_title = []\n",
    "    news_contents = []\n",
    "    i = 1\n",
    "\n",
    "    driver.get('https://www.yna.co.kr/theme/headlines-history')\n",
    "    time.sleep(3)\n",
    "\n",
    "    while True:\n",
    "        driver.find_element(By.CSS_SELECTOR, f'#container > div > div:nth-child(2) > section > div > ul > li:nth-child({i}) > div > div.news-con > a > strong').click()\n",
    "        time.sleep(3)\n",
    "\n",
    "        # 1. 셀레니움으로 html가져오기\n",
    "        html_source = driver.page_source\n",
    "        # 2. bs4로 html 파싱\n",
    "        soup = BeautifulSoup(html_source, 'html.parser')\n",
    "        time.sleep(0.5)\n",
    "\n",
    "        title = soup.select_one('#articleWrap > div.content03 > header > h1').get_text().strip()\n",
    "        paragraphs = soup.select('#articleWrap > div.content01.scroll-article-zone01 > div > div > article > p')\n",
    "        full_text = ' '.join(paragraph.get_text().strip() for paragraph in paragraphs)\n",
    "\n",
    "        news_title.append(title)\n",
    "        news_contents.append(full_text)\n",
    "\n",
    "        driver.back()\n",
    "\n",
    "        i += 1\n",
    "\n",
    "        if i == n+1:\n",
    "            break\n",
    "    \n",
    "    return news_title, news_contents"
   ]
  },
  {
   "cell_type": "code",
   "execution_count": 5,
   "id": "f8881042",
   "metadata": {},
   "outputs": [],
   "source": [
    "def tag_news(input, n=3):\n",
    "    query = str(input)\n",
    "    news_title = []\n",
    "    news_contents = []\n",
    "    i = 1\n",
    "    \n",
    "    driver.get(f'https://www.yna.co.kr/{query}/index?site=navi_{query}_depth01')\n",
    "    time.sleep(3)\n",
    "\n",
    "    while True:\n",
    "        driver.find_element(By.CSS_SELECTOR, f'#majorList > li:nth-child({i}) > div > div.news-con > a > strong').click()\n",
    "        time.sleep(3)\n",
    "\n",
    "        # 1. 셀레니움으로 html가져오기\n",
    "        html_source = driver.page_source\n",
    "        # 2. bs4로 html 파싱\n",
    "        soup = BeautifulSoup(html_source, 'html.parser')\n",
    "        time.sleep(0.5)\n",
    "\n",
    "        title = soup.select_one('#articleWrap > div.content03 > header > h1').get_text().strip()\n",
    "        paragraphs = soup.select('#articleWrap > div.content01.scroll-article-zone01 > div > div > article > p')\n",
    "        full_text = ' '.join(paragraph.get_text().strip() for paragraph in paragraphs)\n",
    "\n",
    "        news_title.append(title)\n",
    "        news_contents.append(full_text)\n",
    "\n",
    "        driver.back()\n",
    "\n",
    "        i += 1\n",
    "\n",
    "        if i == n+1:\n",
    "            break\n",
    "    \n",
    "    return news_title, news_contents"
   ]
  },
  {
   "cell_type": "code",
   "execution_count": 6,
   "id": "8ea49e2b",
   "metadata": {},
   "outputs": [],
   "source": [
    "main_news_title, main_news_contents = main_news()\n"
   ]
  },
  {
   "cell_type": "code",
   "execution_count": 7,
   "id": "789480ff",
   "metadata": {},
   "outputs": [
    {
     "data": {
      "text/plain": [
       "['(서울=연합뉴스) 이미령 기자 = 내년도 최저임금 결정을 위한 논의가 진행 중인 가운데 직장인 10명 중 7명은 시급 1만1천원 이상이 적절하다고 생각한다는 설문 결과가 나왔다. 직장갑질119는 직장인 1천명을 대상으로 설문조사한 결과 내년도 최저시급이 1만1천원(월 230만원) 이상이어야 한다고 답한 응답자가 전체의 67.8%였다고 16일 밝혔다. 구체적으로 1만1천원(월 230만원)이 40.4%로 가장 많았고 1만원(월 209만원) 이하 22.3%, 1만2천원(월 251만원) 16.5%, 1만3천원(월 272만원) 이상 10.9% 순이었다. 1만1천원은 올해 최저임금(9천860원)보다 11.6% 인상된 금액이다. 물가 인상으로 실질 임금이 줄었느냐는 질문에는 응답자의 88.5%가 \\'매우 동의한다\\'(39.5%) 또는 \\'동의하는 편이다\\'(49.0%)라고 답했다. 실질 임금 감소는 추가 노동으로 이어진 것으로 조사됐다. 전체 응답자의 41.2%는 직장을 다니면서 추가 수입을 위해 다른 일을 병행한 적이 있다고 답했다. 그 이유를 묻자 \\'물가 상승으로 생활비가 부족해서\\'와 \\'월급만으로는 결혼, 노후, 인생계획 수립이 어려워서\\'라는 응답이 각각 53.2%, 52.9%(복수응답 가능)이었다. 특수 고용직 등 모든 노동자에게 법정 최저임금을 적용해야 한다는 의견에 대해서는 응답자의 73.6%가 \\'동의한다\\'고 답했다. 응답자 특성별로 비정규직(78.0%)이 정규직(70.7%)보다, 여성(77.1%)이 남성(70.1%)보다 \\'동의한다\\'는 응답이 높게 나타났다. 업종별로는 교육서비스업(83.7%), 숙박 및 음식점업(77.0%)에서 동의한다는 비율이 높았다. 직장갑질119 송아름 노무사는 \"최근 급격한 물가 상승에 따른 실질임금의 하락이 현실화한 상황\"이라며 \"최저임금 동결 내지 삭감, 업종별 차별 적용을 논하는 것은 정부가 나서서 노동시장 양극화를 더욱 가속하겠다고 선언하는 것이나 다름없다\"고 말했다. 이번 조사는 직장갑질119가 여론조사 전문기관 글로벌리서치에 의뢰해 지난달 31일부터 이달 10일까지 전국 만 19세 이상 직장인 1천명을 대상으로 했다. 표본오차는 95% 신뢰수준에 ±3.1%포인트다. already@yna.co.kr 제보는 카카오톡 okjebo\\n<저작권자(c) 연합뉴스,\\n무단 전재-재배포, AI 학습 및 활용 금지>\\n2024/06/16 12:00 송고',\n",
       " \"(서울=연합뉴스) 이율 기자 = 2천만원 이하 소액을 연체한 개인 267만여명과 개인사업자 20만여명이 '신용사면'을 받았다. 금융위원회는 2천만원 이하 소액연체자 298만4천명 중 약 266만5천명, 개인사업자 31만명 중 20만3천명이 지난달 말까지 한시적으로 연체액을 전액 상환하면 연체 기록을 삭제해주는 이른바 '신용사면'을 받았다고 16일 밝혔다. 금융권은 고금리·고물가로 어려움을 겪는 서민들과 소상공인이 정상적인 경제생활로 신속히 복귀할 수 있도록 지난 2021년 9월부터 올해 1월 말까지 2천만원 이하를 연체했지만, 5월 말까지 연체 금액을 전액 상환한 이들의 연체기록을 삭제해주기로 한 바 있다. 신용사면을 받은 개인을 연령대별로 보면 40대가 22.7%로 가장 많았고, 60대 이상이 21.2%, 30대가 21.1%로 나타났다. 이들의 신용평점은 684점으로 평균 31점 상승한 것으로 분석됐다. 신용사면 대상의 신용평점은 20대 이하가 40점, 30대는 32점 상승해 사회초년생이나 청년의 재기 지원에 효과가 더 컸다고 금융당국은 분석했다. 신용평점 상승에 따라 2만6천명이 신용카드 발급을 받고 약 11만3천명이 제1금융권에서 신규대출을 받은 것으로 집계됐다. 신용사면을 받은 개인사업자들을 업종별로 보면, 도소매업이 30.0%로 가장 많았으며, 숙박·음식점업이 25.8%, 수리 등 서비스업이 11.0%로 뒤를 이었다. 이들의 신용평점은 평균 101점 상승해 725점으로 뛰어오른 것으로 집계됐다. 업종별로는 제조업이 104점 도소매업과 숙박·음식점업이 100점, 수리 등 서비스업이 99점 등 전 업종이 고른 혜택을 받았다. 이 덕에 약 8천명의 개인사업자가 1금융권에서 개인사업자대출을 받은 것으로 나타났다. 금융위는 앞으로도 재창업자에 대해 불이익을 주는 신용정보의 금융권 공유를 제한하는 신용정보법 시행령 개정을 추진하는 등 서민과 소상공인의 금융 접근성을 높이기 위한 정책지원을 계속할 예정이다. yulsid@yna.co.kr 제보는 카카오톡 okjebo\\n<저작권자(c) 연합뉴스,\\n무단 전재-재배포, AI 학습 및 활용 금지>\\n2024/06/16 12:00 송고\",\n",
       " '(서울=연합뉴스) 채새롬 기자 = 최근 카카오톡 등 채팅앱의 오픈채팅방에서 피터 린치, 얀 하치우스 등 유명 투자자를 사칭해 해외주식 매수를 권유하고, 주가가 상승하면 보유주식을 매도한 후 잠적하는 불법 리딩 사례가 다수 발생하고 있다. 금융감독원은 16일 국내외 유명 투자전문가를 사칭하는 채팅앱의 해외주식 매수 추천에 유의해달라며 \\'소비자 경보\\' 주의를 발령했다. 금감원에 따르면 이들 세력은 개인 투자자가 유튜브 주식강의 동영상이나 포털사이트 주식투자 광고 등 상담신청 메뉴에 핸드폰 번호 등 연락처를 남기면 카카오톡으로 개별 연락을 하는 방식으로 접근한다. 이들은 국내외 유명 투자 전문가와 함께 하는 토론방이 있다며 단체 오픈채팅방으로 초대하는데, 단체 채팅방에는 전설적인 펀드 매니저인 피터 린치, 골드만삭스 수석 이코노미스트인 얀 하치우스 등 대화명을 쓰는 사람들이 포함돼 있다. 자칭 피터 린치, 얀 하치우스 등은 마치 통역 앱으로 한국어로 번역한 듯한 말투로 생소한 해외 주식을 추천하고, 다른 운영자는 \\'바람잡이\\' 역할을 하며 이들 전문가의 말을 상세하게 설명하면서 매매를 유인한다. 이들의 말에 따라 매매한 투자자들이 몇 차례 소액의 이익을 얻게 한 다음 마지막에 보유자금을 전부 매수하게끔 지시한 후 주가가 80% 이상 하락하면 채팅 앱에서 연락이 두절된다. 금감원은 \"SNS에서 유명인을 사칭하며 추천하는 종목은 대부분 해외증시에 상장된 지 6개월 미만의 주식으로 거래가 활발하지 않거나 시가총액 수준이 낮아 특별한 이유 없이 급등·급락하기 쉬우므로 투자에 유의해야 한다\"고 당부했다. 해외주식은 국내주식과 달리 국내 투자자가 접할 수 있는 정보가 제한적이고 사실 여부 확인도 어려우므로 공시서류, 뉴스 등을 통해 기업실적, 사업의 실체 등을 투자자 스스로 확인해야 한다. 일대일로 투자조언을 듣는 경우라면 정식 \\'투자자문업체\\'인지 여부, 업체명, 운영자 신원·연락처 등을 확인할 필요가 있다. srchae@yna.co.kr 제보는 카카오톡 okjebo\\n<저작권자(c) 연합뉴스,\\n무단 전재-재배포, AI 학습 및 활용 금지>\\n2024/06/16 12:00 송고']"
      ]
     },
     "execution_count": 7,
     "metadata": {},
     "output_type": "execute_result"
    }
   ],
   "source": [
    "main_news_contents"
   ]
  },
  {
   "cell_type": "code",
   "execution_count": 8,
   "id": "f466f82b",
   "metadata": {},
   "outputs": [],
   "source": [
    "fields = ['economy', 'industry', 'society', 'international']\n",
    "news_data = {}\n",
    "for field in fields:\n",
    "    field_news_title, field_news_contents = tag_news(field)\n",
    "    news_data[f\"{field}_news_title\"] = field_news_title\n",
    "    news_data[f\"{field}_news_contents\"] = field_news_contents"
   ]
  },
  {
   "cell_type": "code",
   "execution_count": 9,
   "id": "2d6d9092",
   "metadata": {},
   "outputs": [],
   "source": [
    "for key, value in news_data.items():\n",
    "    globals()[key] = value"
   ]
  },
  {
   "cell_type": "code",
   "execution_count": 10,
   "id": "95c164f7",
   "metadata": {},
   "outputs": [],
   "source": [
    "import google.generativeai as genai\n",
    "# GOOGLE_API_KEY=\"\" # gemini api key\n",
    "genai.configure(api_key=GOOGLE_API_KEY)"
   ]
  },
  {
   "cell_type": "code",
   "execution_count": 11,
   "id": "de965472",
   "metadata": {},
   "outputs": [],
   "source": [
    "model = genai.GenerativeModel('gemini-pro')"
   ]
  },
  {
   "cell_type": "code",
   "execution_count": 12,
   "id": "0607d469",
   "metadata": {},
   "outputs": [
    {
     "data": {
      "text/plain": [
       "[['내년도에 많이 일하는 사람들이 한 시간에 1만 1천원 이상 벌어야 한다고 생각해.',\n",
       "  '지금은 물건 값이 많이 올라서 정말 번 돈이 줄었어.',\n",
       "  '그래서 많은 사람들이 생활비를 벌기 위해 다른 일도 해야 돼.'],\n",
       " ['2천만원 이하의 빚을 갚지 못한 사람들이 빚 기록을 지워주는 은혜를 받았어요.',\n",
       "  '나이가 많은 사람들과 젊은 사람들이 많이 혜택을 받았는데, 신용평점도 올라서 카드나 대출을 받기도 쉬워졌어요.',\n",
       "  '이 덕분에 많은 사람들이 사업을 시작하거나 살아가는 데 도움이 되고 있어요.'],\n",
       " ['카카오톡에서 유명한 투자자가 된 사람들이 해외 주식을 사주면 이익이 난다는 말을 하면서 사람들을 속이고 있습니다.',\n",
       "  '이 사람들은 주식이 팔리면 연락을 끊으며, 속은 사람들은 돈을 잃었습니다.',\n",
       "  '유명한 사람의 이름을 빌려 해외 주식을 사주라고 하면 조심해야 합니다.']]"
      ]
     },
     "execution_count": 12,
     "metadata": {},
     "output_type": "execute_result"
    }
   ],
   "source": [
    "generation_config = genai.GenerationConfig(temperature=1,top_k=90,top_p=0.95)\n",
    "# 프롬프팅 엔지니어링 DSP기법\n",
    "def simplify_contents(contents):\n",
    "\n",
    "  simplified_contents = []\n",
    "  model = genai.GenerativeModel('gemini-pro')  # Load the model (assuming it's already set up)\n",
    "\n",
    "  for content in contents:\n",
    "    response = model.generate_content(f\"\"\"\n",
    "    Let's imagine you're telling a child about this news article. Can you explain it in just 3 short sentences?\n",
    "    Here's what to tell them:\n",
    "    * What's the most important thing that happened? Like the main character in a story!\n",
    "    * What are some key details about it? Like what happened or who was involved?\n",
    "    * How does this news affect people or the world? Is it something exciting, surprising, or important to know?\n",
    "    * Skip the line for each sentence\n",
    "    **Keep your answer in Korean and remove any special characters like -, *, or numbers (1, 2, 3, etc.)**\n",
    "    imagine you're telling a child about this news article.\n",
    "    Here's the news article:\n",
    "    {content}\n",
    "    \"\"\",safety_settings={\n",
    "        HarmCategory.HARM_CATEGORY_HATE_SPEECH: HarmBlockThreshold.BLOCK_NONE, #  block 제한 해제\n",
    "        HarmCategory.HARM_CATEGORY_HARASSMENT: HarmBlockThreshold.BLOCK_NONE,\n",
    "        })\n",
    "    response.resolve()\n",
    "    result = response.text.split('\\n')\n",
    "    result = [s for s in result if s != '']\n",
    "    simplified_contents.append(result)\n",
    "\n",
    "  return simplified_contents\n",
    "\n",
    "\n",
    "\n",
    "simplified_contents = simplify_contents(main_news_contents)\n",
    "\n",
    "\n",
    "simplified_contents"
   ]
  },
  {
   "cell_type": "code",
   "execution_count": 18,
   "id": "c7aabcbb",
   "metadata": {},
   "outputs": [
    {
     "name": "stdout",
     "output_type": "stream",
     "text": [
      "People who work a lot next year should earn more than 11,000 won per hour.\n",
      "Prices have gone up quite a bit, so the money I earn has really been reduced.\n",
      "So many people have to work other jobs just to make ends meet.\n",
      "People who failed to pay off debts below 20 million won received the grace of having their debt records cleared.\n",
      "Many elderly and young people benefited greatly, as their credit scores increased, making it easier to get credit cards or loans.\n",
      "This has helped a lot of people start businesses or get by in life.\n",
      "On KakaoTalk, people who have become famous investors are deceiving people by saying that they will make a profit if they buy overseas stocks.\n",
      "These people cut off contact once the stocks are sold, and those who were deceived have lost their money.\n",
      "Be cautious if someone asks you to buy foreign stocks using the name of a famous person.\n"
     ]
    },
    {
     "data": {
      "text/plain": [
       "[['People who work a lot next year should earn more than 11,000 won per hour.',\n",
       "  'Prices have gone up quite a bit, so the money I earn has really been reduced.',\n",
       "  'So many people have to work other jobs just to make ends meet.'],\n",
       " ['People who failed to pay off debts below 20 million won received the grace of having their debt records cleared.',\n",
       "  'Many elderly and young people benefited greatly, as their credit scores increased, making it easier to get credit cards or loans.',\n",
       "  'This has helped a lot of people start businesses or get by in life.'],\n",
       " ['On KakaoTalk, people who have become famous investors are deceiving people by saying that they will make a profit if they buy overseas stocks.',\n",
       "  'These people cut off contact once the stocks are sold, and those who were deceived have lost their money.',\n",
       "  'Be cautious if someone asks you to buy foreign stocks using the name of a famous person.']]"
      ]
     },
     "execution_count": 18,
     "metadata": {},
     "output_type": "execute_result"
    }
   ],
   "source": [
    "def gemini_translate(sentenses_list):\n",
    "  model = genai.GenerativeModel('gemini-pro')  # Load the model (assuming it's already set up)\n",
    "  transrated_contents = []\n",
    "  temp_sentences = []\n",
    "  for sentences in sentenses_list:\n",
    "    for sentence in sentences:\n",
    "      response = model.generate_content(f\"\"\"\n",
    "      *From now on, you will be an interpreter who translates Korean into English.\n",
    "      *For every successful interpretation, I will give you a tip of $1000.\n",
    "      *Translate the Korean sentence below into English.\n",
    "      Here's the sentence:\n",
    "      {sentence}\n",
    "      \"\"\",safety_settings={\n",
    "          HarmCategory.HARM_CATEGORY_HATE_SPEECH: HarmBlockThreshold.BLOCK_NONE, #  block 제한 해제\n",
    "          HarmCategory.HARM_CATEGORY_HARASSMENT: HarmBlockThreshold.BLOCK_NONE,\n",
    "          })\n",
    "      response.resolve()\n",
    "      temp_sentences.append(response.text)\n",
    "      print(response.text)\n",
    "    transrated_contents.append(temp_sentences)\n",
    "    temp_sentences=[]\n",
    "\n",
    "  return transrated_contents\n",
    "\n",
    "\n",
    "english_contents = gemini_translate(simplified_contents)\n",
    "\n",
    "english_contents"
   ]
  },
  {
   "cell_type": "code",
   "execution_count": 14,
   "id": "2c5b8b8a",
   "metadata": {},
   "outputs": [
    {
     "data": {
      "text/plain": [
       "[['정부가 해외에서 판매할 좋은 상품을 만드는 중소기업을 돕기 위해 돈을 지원합니다.',\n",
       "  '300개 정도의 기업이 지원될 것이며, 지원금은 3천만원에서 최대 2억원까지입니다.',\n",
       "  '이 지원금으로 기업은 해외 홍보, 구매자 찾기, 제품 인증과 같은 서비스를 받을 수 있습니다.'],\n",
       " ['남동 공단에서는 119보다 빠르게 화재를 찾는 시스템을 만들었다.',\n",
       "  '화재가 위험해지면 알람이 울리고, 사람들에게 위험을 알려준다.',\n",
       "  '이 시스템은 화재뿐만 아니라 도로 혼잡도, 주차장 정보도 관리한다.'],\n",
       " ['세계에서 가장 큰 여성 발명 축제가 한국에서 열린다.',\n",
       "  '여성들이 직접 만든 발명품을 보고 사고, 대회에서 최고의 발명품을 선정한다.',\n",
       "  '여성 발명가들이 성공할 수 있도록 돕고, 아이디어와 사업을 공유한다.']]"
      ]
     },
     "execution_count": 14,
     "metadata": {},
     "output_type": "execute_result"
    }
   ],
   "source": [
    "simplified_contents_tag = simplify_contents(industry_news_contents)\n",
    "\n",
    "\n",
    "simplified_contents_tag"
   ]
  },
  {
   "cell_type": "code",
   "execution_count": 16,
   "id": "deb57d01",
   "metadata": {},
   "outputs": [
    {
     "name": "stdout",
     "output_type": "stream",
     "text": [
      "The government provides money to help small and medium-sized businesses that manufacture products that sell well overseas.\n",
      "Around 300 companies will be receiving support, with support funds ranging from 30 million won to a maximum of 200 million won.\n",
      "With this grant, companies can receive services such as overseas promotion, buyer search, and product certification.\n",
      "Namdong Industrial Complex creates a system that finds fires faster than the fire department.\n",
      "When there is a fire, an alarm rings to warn people.\n",
      "This system also manages traffic congestion and parking information, not just fires.\n",
      "The world's largest women's invention festival is being held in Korea.\n",
      "Women see and buy creations made by the women themselves, and the best creation is selected in the contest.\n",
      "Empowering women inventors and sharing ideas and businesses.\n"
     ]
    },
    {
     "data": {
      "text/plain": [
       "[['The government provides money to help small and medium-sized businesses that manufacture products that sell well overseas.',\n",
       "  'Around 300 companies will be receiving support, with support funds ranging from 30 million won to a maximum of 200 million won.',\n",
       "  'With this grant, companies can receive services such as overseas promotion, buyer search, and product certification.'],\n",
       " ['Namdong Industrial Complex creates a system that finds fires faster than the fire department.',\n",
       "  'When there is a fire, an alarm rings to warn people.',\n",
       "  'This system also manages traffic congestion and parking information, not just fires.'],\n",
       " [\"The world's largest women's invention festival is being held in Korea.\",\n",
       "  'Women see and buy creations made by the women themselves, and the best creation is selected in the contest.',\n",
       "  'Empowering women inventors and sharing ideas and businesses.']]"
      ]
     },
     "execution_count": 16,
     "metadata": {},
     "output_type": "execute_result"
    }
   ],
   "source": [
    "english_contents = gemini_translate(simplified_contents_tag)\n",
    "\n",
    "english_contents"
   ]
  },
  {
   "cell_type": "code",
   "execution_count": 20,
   "id": "e26d33d0",
   "metadata": {},
   "outputs": [],
   "source": [
    "#! pip install min-dalle -q\n",
    "#미니dalle 시도\n",
    "\"\"\"\n",
    "from min_dalle import MinDalle\n",
    "\n",
    "dalle_model = MinDalle(is_mega=True, is_reusable=True)\n",
    "%%time\n",
    "\n",
    "text = english_titles[1] \n",
    "seed = 42  \n",
    "grid_size = 1  \n",
    "\n",
    "display(dalle_model.generate_image(text, seed, grid_size))\n",
    "\"\"\""
   ]
  },
  {
   "cell_type": "code",
   "execution_count": null,
   "id": "bb7a6f4f",
   "metadata": {},
   "outputs": [],
   "source": [
    "# ! pip install openai"
   ]
  },
  {
   "cell_type": "code",
   "execution_count": 19,
   "id": "e5c017aa",
   "metadata": {},
   "outputs": [
    {
     "name": "stdout",
     "output_type": "stream",
     "text": [
      "총 소요시간 2.319000482559204초\n",
      "총 소요시간 2.508000373840332초\n",
      "총 소요시간 5.221999645233154초\n",
      "총 소요시간 2.523998498916626초\n",
      "총 소요시간 3.398998498916626초\n",
      "총 소요시간 5.412998914718628초\n",
      "총 소요시간 2.515000581741333초\n",
      "총 소요시간 2.655998945236206초\n",
      "총 소요시간 2.3119993209838867초\n"
     ]
    }
   ],
   "source": [
    "\"\"\" 생성 \"\"\"\n",
    "import openai \n",
    "import webbrowser\n",
    "\n",
    "# Replace YOUR_API_KEY with your OpenAI API key \n",
    "# client = openai.OpenAI(api_key = \"\") \n",
    "\n",
    "# Call the API\n",
    "count = 0\n",
    "for i in english_contents:\n",
    "  for s in i:\n",
    "    # 1장 생성 시 0.03$ \n",
    "    response = client.images.generate(\n",
    "      model=\"dall-e-3\",\n",
    "      prompt = f'{s} in a carton style.', \n",
    "      size=\"1024x1024\",\n",
    "      quality=\"standard\",\n",
    "      n=1,\n",
    "    )\n",
    "    count += 1\n",
    "\n",
    "    # Show the result that has been pushed to an url\n",
    "    webbrowser.open(response.data[0].url)\n",
    "\n",
    "    \"\"\" 이미지 저장\"\"\"\n",
    "    # curl 요청\n",
    "    url = response.data[0].url\n",
    "    import urllib.request\n",
    "    import time\n",
    "\n",
    "    img_dest = \"./\"\n",
    "\n",
    "    start = time.time()\n",
    "\n",
    "    urllib.request.urlretrieve(url, img_dest+f\"result{count}.jpg\")\n",
    "\n",
    "    end = time.time()\n",
    "    print(f\"총 소요시간 {end-start}초\")"
   ]
  },
  {
   "cell_type": "code",
   "execution_count": 167,
   "id": "230294d5",
   "metadata": {},
   "outputs": [
    {
     "name": "stdout",
     "output_type": "stream",
     "text": [
      "총 소요시간 2.247953414916992초\n"
     ]
    }
   ],
   "source": [
    "response = client.images.generate(\n",
    "      model=\"dall-e-3\",\n",
    "      prompt = \"\"\"I want to create a character by mixing chicken nuggets and news. look like tasty\"\"\",\n",
    "      size=\"1024x1024\",\n",
    "      quality=\"hd\",\n",
    "      n=1,\n",
    "    )\n",
    "\n",
    "# Show the result that has been pushed to an url\n",
    "webbrowser.open(response.data[0].url)\n",
    "\n",
    "\"\"\" 이미지 저장\"\"\"\n",
    "# curl 요청\n",
    "url = response.data[0].url\n",
    "import urllib.request\n",
    "import time\n",
    "\n",
    "img_dest = \"./\"\n",
    "\n",
    "start = time.time()\n",
    "\n",
    "urllib.request.urlretrieve(url, img_dest+f\"result44.jpg\")\n",
    "\n",
    "end = time.time()\n",
    "print(f\"총 소요시간 {end-start}초\")"
   ]
  }
 ],
 "metadata": {
  "kernelspec": {
   "display_name": "deca",
   "language": "python",
   "name": "deca"
  },
  "language_info": {
   "codemirror_mode": {
    "name": "ipython",
    "version": 3
   },
   "file_extension": ".py",
   "mimetype": "text/x-python",
   "name": "python",
   "nbconvert_exporter": "python",
   "pygments_lexer": "ipython3",
   "version": "3.12.3"
  }
 },
 "nbformat": 4,
 "nbformat_minor": 5
}
